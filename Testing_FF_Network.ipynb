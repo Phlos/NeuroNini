{
 "cells": [
  {
   "cell_type": "markdown",
   "metadata": {},
   "source": [
    "# Testing the feedforward network\n",
    "\n",
    "`FeedForward.py` contains a basic feedforward neural network structure. Here I'm just going to test it."
   ]
  },
  {
   "cell_type": "markdown",
   "metadata": {},
   "source": [
    "Some imports"
   ]
  },
  {
   "cell_type": "code",
   "execution_count": 1,
   "metadata": {},
   "outputs": [],
   "source": [
    "import numpy as np"
   ]
  },
  {
   "cell_type": "markdown",
   "metadata": {},
   "source": [
    "## Test if it loads"
   ]
  },
  {
   "cell_type": "code",
   "execution_count": 2,
   "metadata": {},
   "outputs": [],
   "source": [
    "import FeedForward as FF"
   ]
  },
  {
   "cell_type": "markdown",
   "metadata": {},
   "source": [
    "Well that's a win."
   ]
  },
  {
   "cell_type": "markdown",
   "metadata": {},
   "source": [
    "## Testing addition\n",
    "\n",
    "Train an ultra simple network that just needs to do one thing: add two numbers. \n",
    "\n",
    "Really this is already what a neural network does anyway, so you can get by with one single node where the weights are 1 and the  bias 0, and the activation function is linear."
   ]
  },
  {
   "cell_type": "markdown",
   "metadata": {},
   "source": [
    "### Create data for addition"
   ]
  },
  {
   "cell_type": "code",
   "execution_count": 3,
   "metadata": {},
   "outputs": [],
   "source": [
    "def create_addition_data(\n",
    "    n_samples,\n",
    "    max_value,\n",
    "    random_state_init,\n",
    "):\n",
    "\n",
    "    rng = np.random.default_rng(random_state_init)\n",
    "\n",
    "    # random numbers up to 30\n",
    "    X = rng.integers(max_value, size=(n_samples,2))\n",
    "    y = X[:,0] + X[:,1]\n",
    "    \n",
    "    return X,y"
   ]
  },
  {
   "cell_type": "code",
   "execution_count": 4,
   "metadata": {},
   "outputs": [
    {
     "name": "stdout",
     "output_type": "stream",
     "text": [
      "2 + 23 = 25\n",
      "19 + 13 = 32\n",
      "12 + 25 = 37\n",
      "2 + 20 = 22\n",
      "6 + 2 = 8\n"
     ]
    }
   ],
   "source": [
    "X,y = create_addition_data(n_samples=5000, max_value=30, random_state_init=42)\n",
    "\n",
    "for (a,b),c in zip(X[:5],y[:5]):\n",
    "    print(f'{a} + {b} = {c}')"
   ]
  },
  {
   "cell_type": "code",
   "execution_count": 5,
   "metadata": {},
   "outputs": [],
   "source": [
    "mininetwork = FF.Network()"
   ]
  },
  {
   "cell_type": "code",
   "execution_count": 6,
   "metadata": {},
   "outputs": [
    {
     "name": "stdout",
     "output_type": "stream",
     "text": [
      "initialising layer 0\n"
     ]
    }
   ],
   "source": [
    "mininetwork.add(FF.Layer(1, n_inputs=2, activation_fn='linear'))"
   ]
  },
  {
   "cell_type": "code",
   "execution_count": 7,
   "metadata": {},
   "outputs": [
    {
     "name": "stdout",
     "output_type": "stream",
     "text": [
      "weights: [[-0.36792657  0.99124049]]\n",
      "biases:  [[-0.78130533]]\n"
     ]
    }
   ],
   "source": [
    "print(f'weights: {mininetwork.layers[0].weights}')\n",
    "print(f'biases:  {mininetwork.layers[0].biases}')"
   ]
  },
  {
   "cell_type": "code",
   "execution_count": 8,
   "metadata": {},
   "outputs": [
    {
     "name": "stdout",
     "output_type": "stream",
     "text": [
      "5000 training samples\n",
      "Training epoch 1/5\n",
      "Epoch 1/5: 0.2327\n",
      "Training epoch 2/5\n",
      "Epoch 2/5: 0.2112\n",
      "Training epoch 3/5\n",
      "Epoch 3/5: 0.2104\n",
      "Training epoch 4/5\n",
      "Epoch 4/5: 0.1955\n",
      "Training epoch 5/5\n",
      "Epoch 5/5: 0.2109\n"
     ]
    }
   ],
   "source": [
    "mininetwork.train(\n",
    "    X, y, \n",
    "    n_epochs=5,\n",
    "    batch_size=100,\n",
    "    learning_rate=0.001,\n",
    "    objective_fn=FF.L2,\n",
    "    random_seed=42,\n",
    "    verbosity=1,\n",
    "    test_data=(X[:5],y[:5])\n",
    ")"
   ]
  },
  {
   "cell_type": "markdown",
   "metadata": {},
   "source": [
    "### Test the network with new data"
   ]
  },
  {
   "cell_type": "code",
   "execution_count": 9,
   "metadata": {},
   "outputs": [
    {
     "name": "stdout",
     "output_type": "stream",
     "text": [
      "predicted 80.92, should be 80 (diff -0.92)\n",
      "predicted 75.81, should be 75 (diff -0.81)\n",
      "predicted 28.88, should be 29 (diff 0.12)\n",
      "predicted 11.53, should be 12 (diff 0.47)\n",
      "predicted 50.30, should be 50 (diff -0.30)\n",
      "predicted 55.42, should be 55 (diff -0.42)\n",
      "predicted 85.00, should be 84 (diff -1.00)\n",
      "predicted 40.10, should be 40 (diff -0.10)\n",
      "predicted 56.43, should be 56 (diff -0.43)\n",
      "predicted 61.52, should be 61 (diff -0.52)\n"
     ]
    }
   ],
   "source": [
    "Xt,yt = create_addition_data(n_samples=10, max_value=50, random_state_init=15)\n",
    "\n",
    "y_pred = mininetwork.compute_forward(Xt)\n",
    "for yp, ytt in zip(y_pred, yt):\n",
    "    print(f'predicted {yp:.2f}, should be {ytt} (diff {ytt-yp:.2f})')"
   ]
  },
  {
   "cell_type": "markdown",
   "metadata": {},
   "source": [
    "### Check the weights & bias\n",
    "\n",
    "weights should be ~1, bias should be ~0"
   ]
  },
  {
   "cell_type": "code",
   "execution_count": 10,
   "metadata": {},
   "outputs": [
    {
     "data": {
      "text/plain": [
       "array([[1.02056702, 1.02004817]])"
      ]
     },
     "execution_count": 10,
     "metadata": {},
     "output_type": "execute_result"
    }
   ],
   "source": [
    "mininetwork.layers[0].weights"
   ]
  },
  {
   "cell_type": "code",
   "execution_count": 11,
   "metadata": {},
   "outputs": [
    {
     "data": {
      "text/plain": [
       "array([[-0.71161231]])"
      ]
     },
     "execution_count": 11,
     "metadata": {},
     "output_type": "execute_result"
    }
   ],
   "source": [
    "mininetwork.layers[0].biases"
   ]
  },
  {
   "cell_type": "markdown",
   "metadata": {},
   "source": [
    "Yeah! That seems to work!\n",
    "\n",
    "Though interesting: the bias isn't particularly good. Kind of shows in the test data above, where there does seem to be a.. well... bias."
   ]
  },
  {
   "cell_type": "markdown",
   "metadata": {},
   "source": [
    "## Test with larger network\n",
    "\n",
    "Can we do the same simple task with a more complicated network?\n",
    "\n",
    "Really just checking whether my code seems to do the basic things alright."
   ]
  },
  {
   "cell_type": "markdown",
   "metadata": {},
   "source": [
    "### Prepare network"
   ]
  },
  {
   "cell_type": "code",
   "execution_count": 12,
   "metadata": {},
   "outputs": [
    {
     "name": "stdout",
     "output_type": "stream",
     "text": [
      "initialising layer 0\n",
      "initialising layer 1\n",
      "previous layer: 0\n",
      "initialising layer 2\n",
      "previous layer: 1\n"
     ]
    }
   ],
   "source": [
    "# prep network\n",
    "network = FF.Network()\n",
    "\n",
    "# add 5 node layer (also define inputs)\n",
    "network.add(FF.Layer(5, n_inputs=2))\n",
    "# add 3 node layer\n",
    "network.add(FF.Layer(3))\n",
    "# add 1 node output layer\n",
    "network.add(FF.Layer(1, activation_fn = 'linear'))"
   ]
  },
  {
   "cell_type": "code",
   "execution_count": 13,
   "metadata": {},
   "outputs": [
    {
     "name": "stdout",
     "output_type": "stream",
     "text": [
      "Network  with 3 layers:\n",
      "  Layer 0: 5 neurons, activation function: <function sigmoid at 0x7f5446f921e0>\n",
      "  Layer 1: 3 neurons, activation function: <function sigmoid at 0x7f5446f921e0>\n",
      "  Layer 2: 1 neurons, activation function: <function linear at 0x7f541e69e400>\n",
      "\n"
     ]
    }
   ],
   "source": [
    "print(network)"
   ]
  },
  {
   "cell_type": "code",
   "execution_count": 14,
   "metadata": {},
   "outputs": [
    {
     "name": "stdout",
     "output_type": "stream",
     "text": [
      "(5, 2)\n",
      "(3, 5)\n",
      "(1, 3)\n"
     ]
    }
   ],
   "source": [
    "for layer in network.layers:\n",
    "    print(layer.weights.shape)"
   ]
  },
  {
   "cell_type": "code",
   "execution_count": 15,
   "metadata": {
    "scrolled": false
   },
   "outputs": [
    {
     "name": "stdout",
     "output_type": "stream",
     "text": [
      "5000 training samples\n",
      "Training epoch 1/10\n",
      "Epoch 1/10: 22652.6767\n",
      "Training epoch 2/10\n",
      "Epoch 2/10: 17898.0325\n",
      "Training epoch 3/10\n",
      "Epoch 3/10: 13843.8051\n",
      "Training epoch 4/10\n",
      "Epoch 4/10: 10533.2328\n",
      "Training epoch 5/10\n",
      "Epoch 5/10: 8146.2901\n",
      "Training epoch 6/10\n",
      "Epoch 6/10: 6470.5852\n",
      "Training epoch 7/10\n",
      "Epoch 7/10: 5360.8857\n",
      "Training epoch 8/10\n",
      "Epoch 8/10: 4594.1763\n",
      "Training epoch 9/10\n",
      "Epoch 9/10: 4063.2974\n",
      "Training epoch 10/10\n",
      "Epoch 10/10: 3690.1128\n"
     ]
    }
   ],
   "source": [
    "network.train(\n",
    "    X, y, \n",
    "    n_epochs=10,\n",
    "    batch_size=100,\n",
    "    learning_rate=0.001,\n",
    "    objective_fn=FF.L2,\n",
    "    random_seed=42,\n",
    "    verbosity=1,\n",
    "    test_data=(X[:50],y[:50])\n",
    ")"
   ]
  },
  {
   "cell_type": "code",
   "execution_count": 16,
   "metadata": {},
   "outputs": [
    {
     "name": "stdout",
     "output_type": "stream",
     "text": [
      "predicted 24.19, should be 80 (diff 55.81)\n",
      "predicted 24.19, should be 75 (diff 50.81)\n",
      "predicted 24.19, should be 29 (diff 4.81)\n",
      "predicted 23.91, should be 12 (diff -11.91)\n",
      "predicted 24.19, should be 50 (diff 25.81)\n",
      "predicted 23.94, should be 55 (diff 31.06)\n",
      "predicted 24.19, should be 84 (diff 59.81)\n",
      "predicted 24.19, should be 40 (diff 15.81)\n",
      "predicted 24.18, should be 56 (diff 31.82)\n",
      "predicted 23.98, should be 61 (diff 37.02)\n"
     ]
    }
   ],
   "source": [
    "Xt,yt = create_addition_data(n_samples=10, max_value=50, random_state_init=15)\n",
    "\n",
    "y_pred = network.compute_forward(Xt)\n",
    "for yp, ytt in zip(y_pred, yt):\n",
    "    print(f'predicted {yp:.2f}, should be {ytt} (diff {ytt-yp:.2f})')"
   ]
  },
  {
   "cell_type": "code",
   "execution_count": 17,
   "metadata": {},
   "outputs": [
    {
     "data": {
      "text/plain": [
       "array([24.18738073, 24.18739068, 24.18531796, 23.90836144, 24.18721845])"
      ]
     },
     "execution_count": 17,
     "metadata": {},
     "output_type": "execute_result"
    }
   ],
   "source": [
    "y_pred = network.compute_forward(Xt)\n",
    "y_pred[:5]"
   ]
  },
  {
   "cell_type": "markdown",
   "metadata": {},
   "source": [
    "Not really impressive, is it?"
   ]
  },
  {
   "cell_type": "markdown",
   "metadata": {},
   "source": [
    "### Trying different learning rates\n",
    "\n",
    "Not that that's likely to do anything much."
   ]
  },
  {
   "cell_type": "code",
   "execution_count": 18,
   "metadata": {},
   "outputs": [
    {
     "name": "stdout",
     "output_type": "stream",
     "text": [
      "\n",
      "\n",
      "Training with learning rate 0.01\n",
      "5000 training samples\n",
      "Training epoch 1/5\n",
      "Epoch 1/5: 4468.9315\n",
      "Training epoch 2/5\n",
      "Epoch 2/5: 2790.5700\n",
      "Training epoch 3/5\n",
      "Epoch 3/5: 2422.1961\n",
      "Training epoch 4/5\n",
      "Epoch 4/5: 2276.7316\n",
      "Training epoch 5/5\n",
      "Epoch 5/5: 2478.8653\n",
      "predicted 30.12, should be 80 (diff 49.88)\n",
      "predicted 30.12, should be 75 (diff 44.88)\n",
      "predicted 30.12, should be 29 (diff -1.12)\n",
      "predicted 27.77, should be 12 (diff -15.77)\n",
      "predicted 30.12, should be 50 (diff 19.88)\n",
      "predicted 26.85, should be 55 (diff 28.15)\n",
      "predicted 30.12, should be 84 (diff 53.88)\n",
      "predicted 30.12, should be 40 (diff 9.88)\n",
      "predicted 30.12, should be 56 (diff 25.88)\n",
      "predicted 30.12, should be 61 (diff 30.88)\n",
      "\n",
      "\n",
      "Training with learning rate 0.001\n",
      "5000 training samples\n",
      "Training epoch 1/5\n",
      "Epoch 1/5: 19133.2422\n",
      "Training epoch 2/5\n",
      "Epoch 2/5: 14841.7215\n",
      "Training epoch 3/5\n",
      "Epoch 3/5: 11356.7346\n",
      "Training epoch 4/5\n",
      "Epoch 4/5: 8778.9258\n",
      "Training epoch 5/5\n",
      "Epoch 5/5: 6974.1732\n",
      "predicted 17.45, should be 80 (diff 62.55)\n",
      "predicted 17.45, should be 75 (diff 57.55)\n",
      "predicted 17.45, should be 29 (diff 11.55)\n",
      "predicted 17.44, should be 12 (diff -5.44)\n",
      "predicted 17.45, should be 50 (diff 32.55)\n",
      "predicted 17.45, should be 55 (diff 37.55)\n",
      "predicted 17.45, should be 84 (diff 66.55)\n",
      "predicted 17.45, should be 40 (diff 22.55)\n",
      "predicted 17.45, should be 56 (diff 38.55)\n",
      "predicted 17.40, should be 61 (diff 43.60)\n",
      "\n",
      "\n",
      "Training with learning rate 0.0001\n",
      "5000 training samples\n",
      "Training epoch 1/5\n",
      "Epoch 1/5: 25133.1206\n",
      "Training epoch 2/5\n",
      "Epoch 2/5: 24679.8006\n",
      "Training epoch 3/5\n",
      "Epoch 3/5: 24227.1580\n",
      "Training epoch 4/5\n",
      "Epoch 4/5: 23773.2245\n",
      "Training epoch 5/5\n",
      "Epoch 5/5: 23315.6196\n",
      "predicted 1.73, should be 80 (diff 78.27)\n",
      "predicted 1.73, should be 75 (diff 73.27)\n",
      "predicted 1.73, should be 29 (diff 27.27)\n",
      "predicted 2.22, should be 12 (diff 9.78)\n",
      "predicted 1.73, should be 50 (diff 48.27)\n",
      "predicted 2.28, should be 55 (diff 52.72)\n",
      "predicted 1.73, should be 84 (diff 82.27)\n",
      "predicted 1.73, should be 40 (diff 38.27)\n",
      "predicted 1.73, should be 56 (diff 54.27)\n",
      "predicted 1.74, should be 61 (diff 59.26)\n",
      "\n",
      "\n",
      "Training with learning rate 1e-05\n",
      "5000 training samples\n",
      "Training epoch 1/5\n",
      "Epoch 1/5: 23195.0184\n",
      "Training epoch 2/5\n",
      "Epoch 2/5: 23158.6264\n",
      "Training epoch 3/5\n",
      "Epoch 3/5: 23122.2322\n",
      "Training epoch 4/5\n",
      "Epoch 4/5: 23085.8333\n",
      "Training epoch 5/5\n",
      "Epoch 5/5: 23049.4269\n",
      "predicted 2.16, should be 80 (diff 77.84)\n",
      "predicted 2.16, should be 75 (diff 72.84)\n",
      "predicted 2.16, should be 29 (diff 26.84)\n",
      "predicted 1.62, should be 12 (diff 10.38)\n",
      "predicted 2.16, should be 50 (diff 47.84)\n",
      "predicted 1.62, should be 55 (diff 53.38)\n",
      "predicted 2.16, should be 84 (diff 81.84)\n",
      "predicted 2.16, should be 40 (diff 37.84)\n",
      "predicted 2.15, should be 56 (diff 53.85)\n",
      "predicted 2.16, should be 61 (diff 58.84)\n"
     ]
    }
   ],
   "source": [
    "for lr in [10**(-x) for x in [2,3,4,5]]:\n",
    "    \n",
    "    print(f'\\n\\nTraining with learning rate {lr}')\n",
    "    \n",
    "    network.reset_weights_and_biases()\n",
    "    network.train(\n",
    "        X, y, \n",
    "        n_epochs=5,\n",
    "        batch_size=100,\n",
    "        learning_rate=lr,\n",
    "        objective_fn=FF.L2,\n",
    "        random_seed=42,\n",
    "        verbosity=1,\n",
    "        test_data=(X[:50],y[:50])\n",
    "    )\n",
    "    \n",
    "    y_pred = network.compute_forward(Xt)\n",
    "    for yp, ytt in zip(y_pred, yt):\n",
    "        print(f'predicted {yp:.2f}, should be {ytt} (diff {ytt-yp:.2f})')"
   ]
  },
  {
   "cell_type": "markdown",
   "metadata": {},
   "source": [
    "Well... to conclude, you shouldn't try to train a simple problem in a complicated way. I guess."
   ]
  },
  {
   "cell_type": "markdown",
   "metadata": {},
   "source": [
    " "
   ]
  }
 ],
 "metadata": {
  "kernelspec": {
   "display_name": "Python 3",
   "language": "python",
   "name": "python3"
  },
  "language_info": {
   "codemirror_mode": {
    "name": "ipython",
    "version": 3
   },
   "file_extension": ".py",
   "mimetype": "text/x-python",
   "name": "python",
   "nbconvert_exporter": "python",
   "pygments_lexer": "ipython3",
   "version": "3.6.12"
  }
 },
 "nbformat": 4,
 "nbformat_minor": 4
}
